{
 "cells": [
  {
   "cell_type": "markdown",
   "metadata": {},
   "source": [
    "# Self-Driving Car Engineer Nanodegree\n",
    "\n",
    "## Deep Learning\n",
    "\n",
    "## Project: Build a Traffic Sign Recognition Classifier\n",
    "\n",
    "In this notebook, a template is provided for you to implement your functionality in stages, which is required to successfully complete this project. If additional code is required that cannot be included in the notebook, be sure that the Python code is successfully imported and included in your submission if necessary. \n",
    "\n",
    "> **Note**: Once you have completed all of the code implementations, you need to finalize your work by exporting the iPython Notebook as an HTML document. Before exporting the notebook to html, all of the code cells need to have been run so that reviewers can see the final implementation and output. You can then export the notebook by using the menu above and navigating to  \\n\",\n",
    "    \"**File -> Download as -> HTML (.html)**. Include the finished document along with this notebook as your submission. \n",
    "\n",
    "In addition to implementing code, there is a writeup to complete. The writeup should be completed in a separate file, which can be either a markdown file or a pdf document. There is a [write up template](https://github.com/udacity/CarND-Traffic-Sign-Classifier-Project/blob/master/writeup_template.md) that can be used to guide the writing process. Completing the code template and writeup template will cover all of the [rubric points](https://review.udacity.com/#!/rubrics/481/view) for this project.\n",
    "\n",
    "The [rubric](https://review.udacity.com/#!/rubrics/481/view) contains \"Stand Out Suggestions\" for enhancing the project beyond the minimum requirements. The stand out suggestions are optional. If you decide to pursue the \"stand out suggestions\", you can include the code in this Ipython notebook and also discuss the results in the writeup file.\n",
    "\n",
    "\n",
    ">**Note:** Code and Markdown cells can be executed using the **Shift + Enter** keyboard shortcut. In addition, Markdown cells can be edited by typically double-clicking the cell to enter edit mode."
   ]
  },
  {
   "cell_type": "markdown",
   "metadata": {},
   "source": [
    "---\n",
    "## Step 0: Load The Data"
   ]
  },
  {
   "cell_type": "code",
   "execution_count": null,
   "metadata": {},
   "outputs": [],
   "source": [
    "import pickle\n",
    "import csv\n",
    "import numpy"
   ]
  },
  {
   "cell_type": "code",
   "execution_count": null,
   "metadata": {},
   "outputs": [],
   "source": [
    "class Dataset:\n",
    "    def __init__(self, X, y):\n",
    "        assert(len(X) == len(y))\n",
    "        self.X = X\n",
    "        self.y = y\n",
    "        self.size = len(X)\n",
    "        \n",
    "    def __len__(self):\n",
    "        return self.size\n",
    "    \n",
    "    def to_batch(self, batchsize):\n",
    "        split_indices = numpy.arange(batchsize, self.size, batchsize)\n",
    "        Xs = numpy.split(self.X, split_indices)\n",
    "        ys = numpy.split(self.y, split_indices)\n",
    "        return [Dataset(X, y) for X, y in zip(Xs, ys)]\n",
    "    \n",
    "    def shuffle(self, rand_state=None):\n",
    "        if rand_state is None:\n",
    "            indices = numpy.random.permutation(self.size)\n",
    "        else:\n",
    "            assert(isinstance(rand_state, numpy.random.RandomState))\n",
    "            indices = rand_state.permutation(self.size)\n",
    "        X = self.X[indices]\n",
    "        y = self.y[indices]\n",
    "        return Dataset(X, y)\n",
    "    \n",
    "class BasicDatasets:\n",
    "    def __init__(self, train, valid, test):\n",
    "        assert(isinstance(train, Dataset) and\n",
    "               isinstance(valid, Dataset) and\n",
    "               isinstance(test,  Dataset))\n",
    "        self.train = train\n",
    "        self.valid = valid\n",
    "        self.test  = test\n",
    "        self.__current = None\n",
    "        \n",
    "    def __iter__(self):\n",
    "        return [self.train, self.valid, self.test].__iter__()\n",
    "    \n",
    "def extract_dataset_from_pickle(fname):\n",
    "    with open(fname, mode=\"rb\") as f:\n",
    "        data = pickle.load(f)\n",
    "    return Dataset(data[\"features\"], data[\"labels\"])\n",
    "\n",
    "def load_label_names(fname):\n",
    "    with open(fname, mode=\"r\") as f:\n",
    "        reader = csv.reader(f)\n",
    "        header = next(reader)\n",
    "        col = header.index(\"SignName\")\n",
    "        return [row[col] for row in reader]"
   ]
  },
  {
   "cell_type": "code",
   "execution_count": null,
   "metadata": {},
   "outputs": [],
   "source": [
    "pickle_files = [\n",
    "    \"./data/traffic-signs-data/train.p\",\n",
    "    \"./data/traffic-signs-data/valid.p\",\n",
    "    \"./data/traffic-signs-data/test.p\",\n",
    "]\n",
    "datasets = [extract_dataset_from_pickle(fname) for fname in pickle_files]\n",
    "datasets = BasicDatasets(*datasets)\n",
    "raw_datasets = datasets\n",
    "\n",
    "label_name_file = \"./signnames.csv\"\n",
    "label_names = load_label_names(label_name_file)\n",
    "\n",
    "def format_label(idx):\n",
    "    return \"{} ({})\".format(label_names[idx], idx)"
   ]
  },
  {
   "cell_type": "markdown",
   "metadata": {},
   "source": [
    "---\n",
    "\n",
    "## Step 1: Dataset Summary & Exploration\n",
    "\n",
    "The pickled data is a dictionary with 4 key/value pairs:\n",
    "\n",
    "- `'features'` is a 4D array containing raw pixel data of the traffic sign images, (num examples, width, height, channels).\n",
    "- `'labels'` is a 1D array containing the label/class id of the traffic sign. The file `signnames.csv` contains id -> name mappings for each id.\n",
    "- `'sizes'` is a list containing tuples, (width, height) representing the original width and height the image.\n",
    "- `'coords'` is a list containing tuples, (x1, y1, x2, y2) representing coordinates of a bounding box around the sign in the image. **THESE COORDINATES ASSUME THE ORIGINAL IMAGE. THE PICKLED DATA CONTAINS RESIZED VERSIONS (32 by 32) OF THESE IMAGES**\n",
    "\n",
    "Complete the basic data summary below. Use python, numpy and/or pandas methods to calculate the data summary rather than hard coding the results. For example, the [pandas shape method](http://pandas.pydata.org/pandas-docs/stable/generated/pandas.DataFrame.shape.html) might be useful for calculating some of the summary results. "
   ]
  },
  {
   "cell_type": "markdown",
   "metadata": {},
   "source": [
    "### Provide a Basic Summary of the Data Set Using Python, Numpy and/or Pandas"
   ]
  },
  {
   "cell_type": "code",
   "execution_count": null,
   "metadata": {},
   "outputs": [],
   "source": [
    "def print_dataset_summary(datasets):\n",
    "    print(\"Number of training examples =\", datasets.train.X.shape[0])\n",
    "    print(\"Number of testing examples =\", datasets.test.X.shape[0])\n",
    "\n",
    "    get_image_shape = lambda x: x.shape[1:]\n",
    "    image_shape = get_image_shape(datasets.test.X)\n",
    "    assert(image_shape == get_image_shape(datasets.valid.X))\n",
    "    assert(image_shape == get_image_shape(datasets.test.X))\n",
    "    print(\"Image shape =\", image_shape)\n",
    "\n",
    "    get_n_labels = lambda x: numpy.unique(x).size\n",
    "    n_labels = get_n_labels(datasets.train.y)\n",
    "    assert(n_labels == get_n_labels(datasets.valid.y))\n",
    "    assert(n_labels == get_n_labels(datasets.test.y))\n",
    "    print(\"Number of labels =\", n_labels)"
   ]
  },
  {
   "cell_type": "code",
   "execution_count": null,
   "metadata": {},
   "outputs": [],
   "source": [
    "print_dataset_summary(datasets)"
   ]
  },
  {
   "cell_type": "markdown",
   "metadata": {},
   "source": [
    "### Include an exploratory visualization of the dataset"
   ]
  },
  {
   "cell_type": "markdown",
   "metadata": {},
   "source": [
    "Visualize the German Traffic Signs Dataset using the pickled file(s). This is open ended, suggestions include: plotting traffic sign images, plotting the count of each sign, etc. \n",
    "\n",
    "The [Matplotlib](http://matplotlib.org/) [examples](http://matplotlib.org/examples/index.html) and [gallery](http://matplotlib.org/gallery.html) pages are a great resource for doing visualizations in Python.\n",
    "\n",
    "**NOTE:** It's recommended you start with something simple first. If you wish to do more, come back to it after you've completed the rest of the sections. It can be interesting to look at the distribution of classes in the training, validation and test set. Is the distribution the same? Are there more examples of some classes than others?"
   ]
  },
  {
   "cell_type": "code",
   "execution_count": null,
   "metadata": {},
   "outputs": [],
   "source": [
    "import matplotlib.pyplot as pyplot\n",
    "%matplotlib inline"
   ]
  },
  {
   "cell_type": "code",
   "execution_count": null,
   "metadata": {},
   "outputs": [],
   "source": [
    "def plot_each_label_images(dataset, labels, columns=6, rand_seed=114514):\n",
    "    numpy.random.seed(rand_seed)\n",
    "    pyplot.subplots_adjust(left=0, right=0.1, bottom=0, top=0.01, wspace=0, hspace=0)\n",
    "    for label_idx in range(len(labels)):\n",
    "        print(format_label(label_idx))\n",
    "        fig = pyplot.figure(figsize=(12,2))\n",
    "        images = numpy.random.permutation(dataset.X[dataset.y == label_idx])\n",
    "        for col in range(columns):\n",
    "            ax = fig.add_subplot(1, columns, col+1, xticks=[], yticks=[])\n",
    "            ax.imshow(images[col])\n",
    "        pyplot.show()"
   ]
  },
  {
   "cell_type": "code",
   "execution_count": null,
   "metadata": {},
   "outputs": [],
   "source": [
    "plot_each_label_images(datasets.train, label_names)"
   ]
  },
  {
   "cell_type": "markdown",
   "metadata": {},
   "source": [
    "----\n",
    "\n",
    "## Step 2: Design and Test a Model Architecture\n",
    "\n",
    "Design and implement a deep learning model that learns to recognize traffic signs. Train and test your model on the [German Traffic Sign Dataset](http://benchmark.ini.rub.de/?section=gtsrb&subsection=dataset).\n",
    "\n",
    "The LeNet-5 implementation shown in the [classroom](https://classroom.udacity.com/nanodegrees/nd013/parts/fbf77062-5703-404e-b60c-95b78b2f3f9e/modules/6df7ae49-c61c-4bb2-a23e-6527e69209ec/lessons/601ae704-1035-4287-8b11-e2c2716217ad/concepts/d4aca031-508f-4e0b-b493-e7b706120f81) at the end of the CNN lesson is a solid starting point. You'll have to change the number of classes and possibly the preprocessing, but aside from that it's plug and play! \n",
    "\n",
    "With the LeNet-5 solution from the lecture, you should expect a validation set accuracy of about 0.89. To meet specifications, the validation set accuracy will need to be at least 0.93. It is possible to get an even higher accuracy, but 0.93 is the minimum for a successful project submission. \n",
    "\n",
    "There are various aspects to consider when thinking about this problem:\n",
    "\n",
    "- Neural network architecture (is the network over or underfitting?)\n",
    "- Play around preprocessing techniques (normalization, rgb to grayscale, etc)\n",
    "- Number of examples per label (some have more than others).\n",
    "- Generate fake data.\n",
    "\n",
    "Here is an example of a [published baseline model on this problem](http://yann.lecun.com/exdb/publis/pdf/sermanet-ijcnn-11.pdf). It's not required to be familiar with the approach used in the paper but, it's good practice to try to read papers like these."
   ]
  },
  {
   "cell_type": "markdown",
   "metadata": {},
   "source": [
    "### Pre-process the Data Set (normalization, grayscale, etc.)"
   ]
  },
  {
   "cell_type": "markdown",
   "metadata": {},
   "source": [
    "Minimally, the image data should be normalized so that the data has mean zero and equal variance. For image data, `(pixel - 128)/ 128` is a quick way to approximately normalize the data and can be used in this project. \n",
    "\n",
    "Other pre-processing steps are optional. You can try different techniques to see if it improves performance. \n",
    "\n",
    "Use the code cell (or multiple code cells, if necessary) to implement the first step of your project."
   ]
  },
  {
   "cell_type": "code",
   "execution_count": null,
   "metadata": {},
   "outputs": [],
   "source": [
    "import cv2\n",
    "from skimage.morphology import disk\n",
    "from skimage.filters import rank"
   ]
  },
  {
   "cell_type": "code",
   "execution_count": null,
   "metadata": {},
   "outputs": [],
   "source": [
    "def preprocess(images, standardizer=None):\n",
    "    images = list(map(lambda x: x, images))\n",
    "    \n",
    "    def to_gray(image):\n",
    "        return cv2.cvtColor(image, cv2.COLOR_RGB2GRAY)\n",
    "    images = [to_gray(image) for image in images]\n",
    "    \n",
    "    def local_histogram_equalize(image):\n",
    "        return rank.equalize(image, selem=disk(30))\n",
    "    images = [local_histogram_equalize(image) for image in images]\n",
    "    \n",
    "    images = numpy.array(images)\n",
    "    if len(images.shape) == 3:\n",
    "        s = images.shape\n",
    "        new_shape = (s[0], s[1], s[2], 1)\n",
    "        images = images.reshape(new_shape)\n",
    "        \n",
    "    if standardizer is None:\n",
    "        standardizer = Standardizer(images)\n",
    "        images = standardizer.standardize(images)\n",
    "        return images, standardizer\n",
    "    else:\n",
    "        images = standardizer.standardize(images)\n",
    "        return images\n",
    "\n",
    "# Standarize images\n",
    "# Requirement: zero mean, equal variance\n",
    "class Standardizer:\n",
    "    def __init__(self, ref_images):\n",
    "        dtype = 'float32'\n",
    "        self.mean = numpy.mean(ref_images).astype(dtype)\n",
    "        self.std  = numpy.std (ref_images).astype(dtype)\n",
    "\n",
    "    def standardize(self, images):\n",
    "        return (images - self.mean) / self.std"
   ]
  },
  {
   "cell_type": "code",
   "execution_count": null,
   "metadata": {},
   "outputs": [],
   "source": [
    "train_X, standardizer = preprocess(raw_datasets.train.X)\n",
    "\n",
    "valid_X = preprocess(raw_datasets.valid.X, standardizer)\n",
    "test_X  = preprocess(raw_datasets.test.X, standardizer)\n",
    "\n",
    "datasets = BasicDatasets(Dataset(train_X, datasets.train.y),\n",
    "                         Dataset(valid_X, datasets.valid.y),\n",
    "                         Dataset(test_X,  datasets.test.y))"
   ]
  },
  {
   "cell_type": "code",
   "execution_count": null,
   "metadata": {},
   "outputs": [],
   "source": [
    "print(\"Mean:\", standardizer.mean)\n",
    "print(\"Stddev:\", standardizer.std)\n",
    "print()\n",
    "\n",
    "print(\"Image pixel type:\", datasets.train.X.dtype)\n",
    "print(\"Image shape:\", datasets.train.X.shape)\n",
    "print()\n",
    "\n",
    "print(\"Train variance:\", numpy.var(datasets.train.X))\n",
    "print(\"Valid variance:\", numpy.var(datasets.valid.X))\n",
    "print(\"Test variance:\",  numpy.var(datasets.test.X))"
   ]
  },
  {
   "cell_type": "markdown",
   "metadata": {},
   "source": [
    "### Model Architecture"
   ]
  },
  {
   "cell_type": "code",
   "execution_count": null,
   "metadata": {},
   "outputs": [],
   "source": [
    "import random\n",
    "import string\n",
    "\n",
    "import tensorflow\n",
    "from tensorflow.contrib.layers import flatten\n",
    "from tensorflow.contrib.layers import xavier_initializer"
   ]
  },
  {
   "cell_type": "code",
   "execution_count": null,
   "metadata": {},
   "outputs": [],
   "source": [
    "n_labels = len(label_names)\n",
    "\n",
    "def preferred_networks(x):\n",
    "    mu = 0\n",
    "    sigma = 0.1\n",
    "    \n",
    "    # Conv: (32x32x1) -> (32x32x32)\n",
    "    x = ConvolutionLayer(1, (3,3,32), (1,1), 'SAME', mu, sigma).apply(x)\n",
    "    # Activate\n",
    "    x = ActivationLayer.apply(x)\n",
    "    \n",
    "    # ResNet\n",
    "    #   Conv: (32x32x32) -> (32x32x32)\n",
    "    #   Activate\n",
    "    #   Conv: (32x32x32) -> (32x32x32)\n",
    "    x = Residual([\n",
    "            ConvolutionLayer(32, (3,3,32), (1,1), 'SAME', mu, sigma),\n",
    "            ActivationLayer,\n",
    "            ConvolutionLayer(32, (3,3,32), (1,1), 'SAME', mu, sigma),\n",
    "            ]).apply(x)\n",
    "    # Activate\n",
    "    x = ActivationLayer.apply(x)\n",
    "    # Max pooling: (32x32x32) -> (16x16x32)\n",
    "    x = MaxPoolingLayer((2,2)).apply(x)\n",
    "\n",
    "    # Conv: (16x16x32) -> (16x16x128)\n",
    "    x = ConvolutionLayer(32, (3,3,128), (1,1), 'SAME', mu, sigma).apply(x)\n",
    "    # Activate\n",
    "    x = ActivationLayer.apply(x)\n",
    "    \n",
    "    # ResNet\n",
    "    #   Conv: (16x16x128) -> (16x16x128)\n",
    "    #   Activate\n",
    "    #   Conv: (16x16x128) -> (16x16x128)\n",
    "    x = Residual([\n",
    "            ConvolutionLayer(128, (3,3,128), (1,1), 'SAME', mu, sigma),\n",
    "            ActivationLayer,\n",
    "            ConvolutionLayer(128, (3,3,128), (1,1), 'SAME', mu, sigma),\n",
    "            ]).apply(x)\n",
    "    # Activate\n",
    "    x = ActivationLayer.apply(x)\n",
    "    # Max pooling: (16x16x128) -> (8x8x128)\n",
    "    x = MaxPoolingLayer((2,2)).apply(x)\n",
    "    \n",
    "    # Conv: (8x8x128) -> (8x8x512)\n",
    "    x = ConvolutionLayer(128, (3,3,512), (1,1), 'SAME', mu, sigma).apply(x)\n",
    "    # Activate\n",
    "    x = ActivationLayer.apply(x)\n",
    "    \n",
    "    # ResNet\n",
    "    #   Conv: (8x8x512) -> (8x8x512)\n",
    "    #   Activate\n",
    "    #   Conv: (8x8x512) -> (8x8x512)\n",
    "    x = Residual([\n",
    "            ConvolutionLayer(512, (3,3,512), (1,1), 'SAME', mu, sigma),\n",
    "            ActivationLayer,\n",
    "            ConvolutionLayer(512, (3,3,512), (1,1), 'SAME', mu, sigma),\n",
    "            ]).apply(x)\n",
    "    # Activate\n",
    "    x = ActivationLayer.apply(x)\n",
    "    # Max pooling: (8x8x512) -> (4x4x512)\n",
    "    x = MaxPoolingLayer((2,2)).apply(x)\n",
    "    \n",
    "    # Flatten\n",
    "    x = flatten(x)\n",
    "    \n",
    "    # Fully connected\n",
    "    x = LinearLayer(8192, 1024, mu, sigma).apply(x)\n",
    "    # Activate\n",
    "    x = ActivationLayer.apply(x)\n",
    "    \n",
    "    # Fully connected\n",
    "    x = LinearLayer(1024, n_labels, mu, sigma).apply(x)\n",
    "    \n",
    "    return x\n",
    "\n",
    "class ConvolutionLayer:\n",
    "    def __init__(self, input_channel, kernel_shape, stride_shape, padding='VALID', mu=0, sigma=0.1):\n",
    "        assert(padding in ['VALID', 'SAME'])\n",
    "        def rand_name(n):\n",
    "            rand_chars = [random.choice(string.ascii_letters + string.digits) for i in range(n)]\n",
    "            return ''.join(rand_chars)\n",
    "        # Use xavier initializer for weight\n",
    "        filter_shape = [kernel_shape[0], kernel_shape[1], input_channel, kernel_shape[2]]\n",
    "        self.filter = tensorflow.get_variable(\n",
    "                rand_name(32), shape=filter_shape, initializer=xavier_initializer())\n",
    "        self.stride = [1, stride_shape[0], stride_shape[1], 1]\n",
    "        self.bias = tensorflow.Variable(tensorflow.truncated_normal([kernel_shape[2]], mu, sigma))\n",
    "        self.padding = padding\n",
    "        \n",
    "    def apply(self, x):\n",
    "        x = tensorflow.nn.conv2d(x, self.filter, self.stride, self.padding)\n",
    "        x = tensorflow.nn.bias_add(x, self.bias)\n",
    "        return x\n",
    "    \n",
    "class MaxPoolingLayer:\n",
    "    def __init__(self, kernel_shape, stride_shape=None, padding='VALID'):\n",
    "        assert(padding in ['VALID', 'SAME'])\n",
    "        self.kernel = [1, kernel_shape[0], kernel_shape[1], 1]\n",
    "        if stride_shape is None:\n",
    "            stride_shape = kernel_shape\n",
    "        self.stride = [1, stride_shape[0], stride_shape[1], 1]\n",
    "        self.padding = padding\n",
    "        \n",
    "    def apply(self, x):\n",
    "        return tensorflow.nn.max_pool(x, self.kernel, self.stride, self.padding)\n",
    "\n",
    "class LinearLayer:\n",
    "    def __init__(self, input_size, output_size, mu=0, sigma=0.1):\n",
    "        self.weight = tensorflow.Variable(tensorflow.truncated_normal([input_size, output_size], mu, sigma))\n",
    "        self.bias   = tensorflow.Variable(tensorflow.truncated_normal([output_size], mu, sigma))\n",
    "    \n",
    "    def apply(self, x):\n",
    "        return tensorflow.add(tensorflow.matmul(x, self.weight), self.bias)\n",
    "\n",
    "class ActivationLayer:\n",
    "    @classmethod\n",
    "    def apply(clazz, x):\n",
    "        return tensorflow.nn.relu(x)\n",
    "    \n",
    "class Residual:\n",
    "    def __init__(self, layers):\n",
    "        self.layers = layers\n",
    "        \n",
    "    def apply(self, x):\n",
    "        x_in = x\n",
    "        for layer in self.layers:\n",
    "            x = layer.apply(x)\n",
    "        return x + x_in"
   ]
  },
  {
   "cell_type": "markdown",
   "metadata": {},
   "source": [
    "### Train, Validate and Test the Model"
   ]
  },
  {
   "cell_type": "markdown",
   "metadata": {},
   "source": [
    "A validation set can be used to assess how well the model is performing. A low accuracy on the training and validation\n",
    "sets imply underfitting. A high accuracy on the training set but low accuracy on the validation set implies overfitting."
   ]
  },
  {
   "cell_type": "code",
   "execution_count": null,
   "metadata": {},
   "outputs": [],
   "source": [
    "# Hyper parameters\n",
    "epochs = 10\n",
    "batchsize = 128\n",
    "learning_rate = 0.001\n",
    "rand_seed = 12"
   ]
  },
  {
   "cell_type": "code",
   "execution_count": null,
   "metadata": {},
   "outputs": [],
   "source": [
    "image_h, image_w, image_c = datasets.train.X.shape[1:]\n",
    "\n",
    "tf_x = tensorflow.placeholder(shape=(None, image_h, image_w, image_c), dtype=tensorflow.float32)\n",
    "tf_y = tensorflow.placeholder(shape=(None,), dtype=tensorflow.uint8)\n",
    "tf_onehot_y = tensorflow.one_hot(tf_y, n_labels)\n",
    "tf_logits = preferred_networks(tf_x)\n",
    "\n",
    "tf_cross_entropy = tensorflow.nn.softmax_cross_entropy_with_logits_v2(labels=tf_onehot_y, logits=tf_logits)\n",
    "tf_loss = tensorflow.reduce_mean(tf_cross_entropy)\n",
    "tf_optimizer = tensorflow.train.AdamOptimizer(learning_rate=learning_rate)\n",
    "tf_train = tf_optimizer.minimize(tf_loss)\n",
    "\n",
    "tf_correct = tensorflow.equal(tensorflow.argmax(tf_logits, 1), tensorflow.argmax(tf_onehot_y, 1))\n",
    "tf_accuracy = tensorflow.reduce_mean(tensorflow.cast(tf_correct, tensorflow.float32))\n",
    "\n",
    "model_path = \"./data/model.tfckpt\"\n",
    "tf_saver = tensorflow.train.Saver()\n",
    "\n",
    "rand_state = numpy.random.RandomState(rand_seed)\n",
    "\n",
    "def evaluate(dataset):\n",
    "    total_accuracy = 0\n",
    "    sess = tensorflow.get_default_session()\n",
    "    for batched in dataset.to_batch(batchsize):\n",
    "        accuracy = sess.run(tf_accuracy,\n",
    "                            feed_dict={tf_x: batched.X, tf_y: batched.y})\n",
    "        total_accuracy += (accuracy * len(batched))\n",
    "    return total_accuracy / len(dataset)"
   ]
  },
  {
   "cell_type": "code",
   "execution_count": null,
   "metadata": {},
   "outputs": [],
   "source": [
    "# Training\n",
    "with tensorflow.Session() as sess:\n",
    "    sess.run(tensorflow.global_variables_initializer())\n",
    "    tensorflow.set_random_seed(rand_seed)\n",
    "    \n",
    "    print(\"Training...\")\n",
    "    print()\n",
    "    for i in range(epochs):\n",
    "        batched_list = datasets.train.shuffle(rand_state).to_batch(batchsize)\n",
    "        for batched in batched_list:\n",
    "            sess.run(tf_train,\n",
    "                     feed_dict={tf_x: batched.X, tf_y: batched.y})\n",
    "            \n",
    "        valid_accuracy = evaluate(datasets.valid)\n",
    "        print(\"EPOCH {} ...\".format(i+1))\n",
    "        print(\"Validation Accuracy = {:.3f}\".format(valid_accuracy))\n",
    "        print()\n",
    "        \n",
    "    tf_saver.save(sess, model_path)\n",
    "    print(\"Model saved\")"
   ]
  },
  {
   "cell_type": "code",
   "execution_count": null,
   "metadata": {},
   "outputs": [],
   "source": [
    "# Testing\n",
    "with tensorflow.Session() as sess:\n",
    "    tf_saver.restore(sess, model_path)\n",
    "    \n",
    "    test_accuracy = evaluate(datasets.test)\n",
    "    print(\"Test accuracy = {:.3f}\".format(test_accuracy))"
   ]
  },
  {
   "cell_type": "markdown",
   "metadata": {},
   "source": [
    "---\n",
    "\n",
    "## Step 3: Test a Model on New Images\n",
    "\n",
    "To give yourself more insight into how your model is working, download at least five pictures of German traffic signs from the web and use your model to predict the traffic sign type.\n",
    "\n",
    "You may find `signnames.csv` useful as it contains mappings from the class id (integer) to the actual sign name."
   ]
  },
  {
   "cell_type": "markdown",
   "metadata": {},
   "source": [
    "### Load and Output the Images"
   ]
  },
  {
   "cell_type": "code",
   "execution_count": null,
   "metadata": {},
   "outputs": [],
   "source": [
    "import glob"
   ]
  },
  {
   "cell_type": "code",
   "execution_count": null,
   "metadata": {},
   "outputs": [],
   "source": [
    "def load_image_for_dataset(fname):\n",
    "    bgr_img = cv2.imread(fname)\n",
    "    bgr_img = cv2.resize(bgr_img, (32,32))\n",
    "    return cv2.cvtColor(bgr_img, cv2.COLOR_BGR2RGB)"
   ]
  },
  {
   "cell_type": "code",
   "execution_count": null,
   "metadata": {},
   "outputs": [],
   "source": [
    "new_image_fnames = sorted(list(glob.glob(\"./data/new_images/*.jpg\")))\n",
    "new_X = [load_image_for_dataset(fname) for fname in new_image_fnames]\n",
    "new_y = [37, 40, 18, 2, 15]\n",
    "\n",
    "new_dataset = Dataset(numpy.array(new_X), numpy.array(new_y))\n",
    "raw_new_dataset = new_dataset\n",
    "# Preprocess\n",
    "pp_new_X = preprocess(raw_new_dataset.X, standardizer)\n",
    "new_dataset = Dataset(pp_new_X, new_dataset.y)"
   ]
  },
  {
   "cell_type": "code",
   "execution_count": null,
   "metadata": {},
   "outputs": [],
   "source": [
    "for image, label_idx in zip(new_X, new_y):\n",
    "    print(format_label(label_idx))\n",
    "    pyplot.imshow(image)\n",
    "    pyplot.show()"
   ]
  },
  {
   "cell_type": "code",
   "execution_count": null,
   "metadata": {},
   "outputs": [],
   "source": [
    "for image, label_idx in zip(pp_new_X, new_y):\n",
    "    print(format_label(label_idx))\n",
    "    s = image.shape\n",
    "    pyplot.imshow(image.reshape([s[0], s[1]]))\n",
    "    pyplot.show()"
   ]
  },
  {
   "cell_type": "markdown",
   "metadata": {},
   "source": [
    "### Predict the Sign Type for Each Image"
   ]
  },
  {
   "cell_type": "code",
   "execution_count": null,
   "metadata": {},
   "outputs": [],
   "source": [
    "# Predict\n",
    "with tensorflow.Session() as sess:\n",
    "    tf_saver.restore(sess, model_path)\n",
    "    \n",
    "    new_accuracy = evaluate(new_dataset)"
   ]
  },
  {
   "cell_type": "markdown",
   "metadata": {},
   "source": [
    "### Analyze Performance"
   ]
  },
  {
   "cell_type": "code",
   "execution_count": null,
   "metadata": {},
   "outputs": [],
   "source": [
    "print(\"New accuracy = {:.3f}\".format(new_accuracy))"
   ]
  },
  {
   "cell_type": "markdown",
   "metadata": {},
   "source": [
    "### Output Top 5 Softmax Probabilities For Each Image Found on the Web"
   ]
  },
  {
   "cell_type": "markdown",
   "metadata": {},
   "source": [
    "For each of the new images, print out the model's softmax probabilities to show the **certainty** of the model's predictions (limit the output to the top 5 probabilities for each image). [`tf.nn.top_k`](https://www.tensorflow.org/versions/r0.12/api_docs/python/nn.html#top_k) could prove helpful here. \n",
    "\n",
    "The example below demonstrates how tf.nn.top_k can be used to find the top k predictions for each image.\n",
    "\n",
    "`tf.nn.top_k` will return the values and indices (class ids) of the top k predictions. So if k=3, for each sign, it'll return the 3 largest probabilities (out of a possible 43) and the correspoding class ids.\n",
    "\n",
    "Take this numpy array as an example. The values in the array represent predictions. The array contains softmax probabilities for five candidate images with six possible classes. `tf.nn.top_k` is used to choose the three classes with the highest probability:\n",
    "\n",
    "```\n",
    "# (5, 6) array\n",
    "a = np.array([[ 0.24879643,  0.07032244,  0.12641572,  0.34763842,  0.07893497,\n",
    "         0.12789202],\n",
    "       [ 0.28086119,  0.27569815,  0.08594638,  0.0178669 ,  0.18063401,\n",
    "         0.15899337],\n",
    "       [ 0.26076848,  0.23664738,  0.08020603,  0.07001922,  0.1134371 ,\n",
    "         0.23892179],\n",
    "       [ 0.11943333,  0.29198961,  0.02605103,  0.26234032,  0.1351348 ,\n",
    "         0.16505091],\n",
    "       [ 0.09561176,  0.34396535,  0.0643941 ,  0.16240774,  0.24206137,\n",
    "         0.09155967]])\n",
    "```\n",
    "\n",
    "Running it through `sess.run(tf.nn.top_k(tf.constant(a), k=3))` produces:\n",
    "\n",
    "```\n",
    "TopKV2(values=array([[ 0.34763842,  0.24879643,  0.12789202],\n",
    "       [ 0.28086119,  0.27569815,  0.18063401],\n",
    "       [ 0.26076848,  0.23892179,  0.23664738],\n",
    "       [ 0.29198961,  0.26234032,  0.16505091],\n",
    "       [ 0.34396535,  0.24206137,  0.16240774]]), indices=array([[3, 0, 5],\n",
    "       [0, 1, 4],\n",
    "       [0, 5, 1],\n",
    "       [1, 3, 5],\n",
    "       [1, 4, 3]], dtype=int32))\n",
    "```\n",
    "\n",
    "Looking just at the first row we get `[ 0.34763842,  0.24879643,  0.12789202]`, you can confirm these are the 3 largest probabilities in `a`. You'll also notice `[3, 0, 5]` are the corresponding indices."
   ]
  },
  {
   "cell_type": "code",
   "execution_count": null,
   "metadata": {},
   "outputs": [],
   "source": [
    "with tensorflow.Session() as sess:\n",
    "    tf_saver.restore(sess, model_path)\n",
    "    \n",
    "    top5s = sess.run(tensorflow.nn.top_k(tensorflow.nn.softmax(tf_logits), k=5),\n",
    "             feed_dict={tf_x: new_dataset.X, tf_y: new_dataset.y})"
   ]
  },
  {
   "cell_type": "code",
   "execution_count": null,
   "metadata": {},
   "outputs": [],
   "source": [
    "for image, correct_label_idx, scores, indices in zip(new_X, new_y, top5s.values, top5s.indices):\n",
    "    print(\"====================================\")\n",
    "    pyplot.imshow(image)\n",
    "    pyplot.show()\n",
    "    print(\"Correct: {}\".format(format_label(correct_label_idx)))\n",
    "    for i, (score, index) in enumerate(zip(scores, indices)):\n",
    "        print(\"Cand {}:  {} [Score = {}]\".format(i, format_label(index), score))"
   ]
  },
  {
   "cell_type": "markdown",
   "metadata": {},
   "source": [
    "### Project Writeup\n",
    "\n",
    "Once you have completed the code implementation, document your results in a project writeup using this [template](https://github.com/udacity/CarND-Traffic-Sign-Classifier-Project/blob/master/writeup_template.md) as a guide. The writeup can be in a markdown or pdf file. "
   ]
  },
  {
   "cell_type": "markdown",
   "metadata": {},
   "source": [
    "> **Note**: Once you have completed all of the code implementations and successfully answered each question above, you may finalize your work by exporting the iPython Notebook as an HTML document. You can do this by using the menu above and navigating to  \\n\",\n",
    "    \"**File -> Download as -> HTML (.html)**. Include the finished document along with this notebook as your submission."
   ]
  },
  {
   "cell_type": "markdown",
   "metadata": {},
   "source": [
    "---\n",
    "\n",
    "## Step 4 (Optional): Visualize the Neural Network's State with Test Images\n",
    "\n",
    " This Section is not required to complete but acts as an additional excersise for understaning the output of a neural network's weights. While neural networks can be a great learning device they are often referred to as a black box. We can understand what the weights of a neural network look like better by plotting their feature maps. After successfully training your neural network you can see what it's feature maps look like by plotting the output of the network's weight layers in response to a test stimuli image. From these plotted feature maps, it's possible to see what characteristics of an image the network finds interesting. For a sign, maybe the inner network feature maps react with high activation to the sign's boundary outline or to the contrast in the sign's painted symbol.\n",
    "\n",
    " Provided for you below is the function code that allows you to get the visualization output of any tensorflow weight layer you want. The inputs to the function should be a stimuli image, one used during training or a new one you provided, and then the tensorflow variable name that represents the layer's state during the training process, for instance if you wanted to see what the [LeNet lab's](https://classroom.udacity.com/nanodegrees/nd013/parts/fbf77062-5703-404e-b60c-95b78b2f3f9e/modules/6df7ae49-c61c-4bb2-a23e-6527e69209ec/lessons/601ae704-1035-4287-8b11-e2c2716217ad/concepts/d4aca031-508f-4e0b-b493-e7b706120f81) feature maps looked like for it's second convolutional layer you could enter conv2 as the tf_activation variable.\n",
    "\n",
    "For an example of what feature map outputs look like, check out NVIDIA's results in their paper [End-to-End Deep Learning for Self-Driving Cars](https://devblogs.nvidia.com/parallelforall/deep-learning-self-driving-cars/) in the section Visualization of internal CNN State. NVIDIA was able to show that their network's inner weights had high activations to road boundary lines by comparing feature maps from an image with a clear path to one without. Try experimenting with a similar test to show that your trained network's weights are looking for interesting features, whether it's looking at differences in feature maps from images with or without a sign, or even what feature maps look like in a trained network vs a completely untrained one on the same sign image.\n",
    "\n",
    "<figure>\n",
    " <img src=\"visualize_cnn.png\" width=\"380\" alt=\"Combined Image\" />\n",
    " <figcaption>\n",
    " <p></p> \n",
    " <p style=\"text-align: center;\"> Your output should look something like this (above)</p> \n",
    " </figcaption>\n",
    "</figure>\n",
    " <p></p> \n"
   ]
  },
  {
   "cell_type": "code",
   "execution_count": null,
   "metadata": {},
   "outputs": [],
   "source": [
    "### Visualize your network's feature maps here.\n",
    "### Feel free to use as many code cells as needed.\n",
    "\n",
    "# image_input: the test image being fed into the network to produce the feature maps\n",
    "# tf_activation: should be a tf variable name used during your training procedure that represents the calculated state of a specific weight layer\n",
    "# activation_min/max: can be used to view the activation contrast in more detail, by default matplot sets min and max to the actual min and max values of the output\n",
    "# plt_num: used to plot out multiple different weight feature map sets on the same block, just extend the pyplot number for each new feature map entry\n",
    "\n",
    "def outputFeatureMap(image_input, tf_activation, activation_min=-1, activation_max=-1 ,plt_num=1):\n",
    "    # Here make sure to preprocess your image_input in a way your network expects\n",
    "    # with size, normalization, ect if needed\n",
    "    # image_input =\n",
    "    # Note: x should be the same name as your network's tensorflow data placeholder variable\n",
    "    # If you get an error tf_activation is not defined it may be having trouble accessing the variable from inside a function\n",
    "    activation = tf_activation.eval(session=sess,feed_dict={x : image_input})\n",
    "    featuremaps = activation.shape[3]\n",
    "    pyplot.figure(plt_num, figsize=(15,15))\n",
    "    for featuremap in range(featuremaps):\n",
    "        pyplot.subplot(6,8, featuremap+1) # sets the number of feature maps to show on each row and column\n",
    "        pyplot.title('FeatureMap ' + str(featuremap)) # displays the feature map number\n",
    "        if activation_min != -1 & activation_max != -1:\n",
    "            pyplot.imshow(activation[0,:,:, featuremap], interpolation=\"nearest\", vmin =activation_min, vmax=activation_max, cmap=\"gray\")\n",
    "        elif activation_max != -1:\n",
    "            pyplot.imshow(activation[0,:,:, featuremap], interpolation=\"nearest\", vmax=activation_max, cmap=\"gray\")\n",
    "        elif activation_min !=-1:\n",
    "            pyplot.imshow(activation[0,:,:, featuremap], interpolation=\"nearest\", vmin=activation_min, cmap=\"gray\")\n",
    "        else:\n",
    "            pyplot.imshow(activation[0,:,:, featuremap], interpolation=\"nearest\", cmap=\"gray\")"
   ]
  }
 ],
 "metadata": {
  "anaconda-cloud": {},
  "jupytext": {
   "formats": "ipynb,py:light"
  },
  "kernelspec": {
   "display_name": "Python 3",
   "language": "python",
   "name": "python3"
  },
  "language_info": {
   "codemirror_mode": {
    "name": "ipython",
    "version": 3
   },
   "file_extension": ".py",
   "mimetype": "text/x-python",
   "name": "python",
   "nbconvert_exporter": "python",
   "pygments_lexer": "ipython3",
   "version": "3.5.2"
  },
  "widgets": {
   "state": {},
   "version": "1.1.2"
  }
 },
 "nbformat": 4,
 "nbformat_minor": 2
}
